{
  "nbformat": 4,
  "nbformat_minor": 0,
  "metadata": {
    "kernelspec": {
      "display_name": "Python 3",
      "language": "python",
      "name": "python3"
    },
    "language_info": {
      "codemirror_mode": {
        "name": "ipython",
        "version": 3
      },
      "file_extension": ".py",
      "mimetype": "text/x-python",
      "name": "python",
      "nbconvert_exporter": "python",
      "pygments_lexer": "ipython3",
      "version": "3.7.6"
    },
    "colab": {
      "name": "seance6.ipynb",
      "provenance": [],
      "include_colab_link": true
    }
  },
  "cells": [
    {
      "cell_type": "markdown",
      "metadata": {
        "id": "view-in-github",
        "colab_type": "text"
      },
      "source": [
        "<a href=\"https://colab.research.google.com/github/Theo-Bruendet/-itii-jupyter-seance3/blob/master/seance6.ipynb\" target=\"_parent\"><img src=\"https://colab.research.google.com/assets/colab-badge.svg\" alt=\"Open In Colab\"/></a>"
      ]
    },
    {
      "cell_type": "markdown",
      "metadata": {
        "id": "TQL-C45eA475"
      },
      "source": [
        "Ex 1 : La m ́ethode des rectangles\n",
        "On cherche à calculer une intégrale en utilisant la méthode des rectangles.\n",
        "![1.png](attachment:1.png)\n",
        "\n",
        "L’intervalle de l’intégrale est noté [a,b] et la fonction à intégrer f. On divise cet intervalle en n petits segments et on fait la somme des aires des petits rectangles délimités par l’axe des abscisses et la courbe de la fonction f.\n",
        "\n",
        "![2.png](attachment:2.png)\n",
        "\n",
        "1. Ecrire la fontion integrale(f,a,b,n) \n",
        "2. Quelle valeur de n faut-il choisir pour être précis à 10^{-4} près ? Ecrire la fonction qui permette de calculer cette valeur.\n",
        "3. Tester avec la fonction $f(x)=3x^3+2x-1$ sur l'interval [0,10] avec un pas de 0.001\n",
        "4. Tester avec la fonction $g(x)=cos(\\frac {1}{x})$ sur l'interval [-1;1] privé de 0"
      ]
    },
    {
      "cell_type": "code",
      "metadata": {
        "colab": {
          "base_uri": "https://localhost:8080/"
        },
        "id": "2PZZlNh7A478",
        "outputId": "dfd37deb-4489-48e5-a1a7-4befed874894"
      },
      "source": [
        "import math\n",
        "\n",
        "\n",
        "f = lambda x:  x*math.cos(x)\n",
        "f1 = lambda x: 3*x**3+2*x-1\n",
        "f2 = lambda x: math.cos(1/x)\n",
        "\n",
        "def integrale(f,a,b,n):\n",
        "  somme = 0\n",
        "  h= float(b-a)/n\n",
        "  x=a\n",
        "  for i in range(0,n+1):\n",
        "    somme = somme + f(x)*h\n",
        "    x=x+h\n",
        "  return somme\n",
        "\n",
        "def integrale2(f, a, b, n0, precision):\n",
        "  val = integrale(f, a, b, n0)\n",
        "  val0 = 0\n",
        "  while val0 is 0 or abs(val - val0) / val0 > precision:\n",
        "    val0 = val\n",
        "    n0 = n0 +1\n",
        "    val = integrale(f,a,b,n0)\n",
        "  return val, n0\n",
        "\n",
        "print(integrale2(f1, 0, 10, 20, 0.001))\n",
        "print(integrale2(f2, -1, 1, 20, 0.000000001))"
      ],
      "execution_count": 35,
      "outputs": [
        {
          "output_type": "stream",
          "text": [
            "(7929.037037037036, 45)\n",
            "(-0.16245307284514587, 21)\n"
          ],
          "name": "stdout"
        }
      ]
    },
    {
      "cell_type": "markdown",
      "metadata": {
        "id": "rmPQ2UexA479"
      },
      "source": [
        "Ex2: Méthode des trapèzes\n",
        "Le calcul numérique d’une intégrale par la méthode des trapèzes consiste à calculer une valeur approchée de l’intégrale $\\int_{a}^{b}f(x)dx$ en utilisant une interpolation linéaire de f par intervalles. Sur un intervalle [a,b], la valeur de l’intégrale peut être approchée par la surface du trapèzepassant par les points[a,0],[a,f(a)],[b,f(b)],[b,0]:\n",
        "$$\\int_{a}^{b}f(x)dx \\approx (b-a) \\left [ \\frac{f(a)+f(b)}{2} \\right ]$$\n",
        "\n",
        "Pour calculer une meilleur approximation de cette intégrale, on découpe l’intervalle [a,b] en n intervalles plus petits, de taille $\\frac{b-a}{n}$, et on calcule la somme des aires (signées) des trapèzes :\n",
        "$$\n",
        "\\int_{a}^{b}f(x)dx \\approx \\frac{(b-a)}{2n} \\sum_{k=i}^{n} \\left [ f(a+(k-i)\\frac{b-a}{n})+f(a+k\\frac{b-a}{n}) \\right ]$$\n",
        "\n",
        "1. Écrivez tous les termes de la somme ci-dessus pourn= 3, et observez qu’il estpossible de faire le calcul avec exactement n+ 1 = 4appels à la fonction f\n",
        "2. Écrire une fonction pythonintegrale_trapezes(a, b, n) qui calcule l’intégrale de la fonction f(x) de a à b avec n intervalles, en faisant au plus n+ 1 appels à la fonction f.\n",
        "3. Pour $f(x) =xsin(x2)$, calculez l’erreur numérique de son intégrale sur l’intervalle [0,√π], pour 2 à 30 intervalles."
      ]
    },
    {
      "cell_type": "code",
      "metadata": {
        "id": "T3IJrvzdBLCe"
      },
      "source": [
        "import math \n",
        " \n",
        " \n",
        "def trapezes(a, b, n, f): \n",
        "    \"\"\"méthode d'approximation dite 'des trapèzes'\"\"\" \n",
        "    S = 0 \n",
        "    for i in range(0, n): \n",
        "        x1 = a + (b - a) * i / float(n) \n",
        "        x2 = a + (b - a) * (i + 1) / float(n) \n",
        "        S += (f(x1) + f(x2)) / 2.0 * (x2 - x1) \n",
        "    return S "
      ],
      "execution_count": 36,
      "outputs": []
    }
  ]
}